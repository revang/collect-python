{
 "nbformat": 4,
 "nbformat_minor": 2,
 "metadata": {
  "language_info": {
   "name": "python",
   "codemirror_mode": {
    "name": "ipython",
    "version": 3
   },
   "version": "3.7.1"
  },
  "orig_nbformat": 2,
  "file_extension": ".py",
  "mimetype": "text/x-python",
  "name": "python",
  "npconvert_exporter": "python",
  "pygments_lexer": "ipython3",
  "version": 3
 },
 "cells": [
  {
   "cell_type": "code",
   "execution_count": 14,
   "metadata": {},
   "outputs": [
    {
     "name": "stdout",
     "output_type": "stream",
     "text": "('[{\"ENTRY_ID\": \"61072207\", \"ENTRY_DATE\": \"2019-07-01\", \"INST_ID\": 182679, '\n '\"ACCOUNT\": \"6411030201\", \"DEBIT_CREDIT_FLAG\": \"1\", \"VALUE\": 24830.14}, '\n '{\"ENTRY_ID\": \"61072233\", \"ENTRY_DATE\": \"2019-07-01\", \"INST_ID\": 182618, '\n '\"ACCOUNT\": \"6411030201\", \"DEBIT_CREDIT_FLAG\": \"1\", \"VALUE\": 55232.88}, '\n '{\"ENTRY_ID\": \"61072251\", \"ENTRY_DATE\": \"2019-07-01\", \"INST_ID\": 182818, '\n '\"ACCOUNT\": \"6411030201\", \"DEBIT_CREDIT_FLAG\": \"1\", \"VALUE\": 25512.33}, '\n '{\"ENTRY_ID\": \"61072282\", \"ENTRY_DATE\": \"2019-07-01\", \"INST_ID\": 181463, '\n '\"ACCOUNT\": \"6411030201\", \"DEBIT_CREDIT_FLAG\": \"1\", \"VALUE\": 151947.95}, '\n '{\"ENTRY_ID\": \"61072305\", \"ENTRY_DATE\": \"2019-07-01\", \"INST_ID\": 182816, '\n '\"ACCOUNT\": \"6411030201\", \"DEBIT_CREDIT_FLAG\": \"1\", \"VALUE\": 34928.22}, '\n '{\"ENTRY_ID\": \"61072309\", \"ENTRY_DATE\": \"2019-07-01\", \"INST_ID\": 182820, '\n '\"ACCOUNT\": \"6411030201\", \"DEBIT_CREDIT_FLAG\": \"1\", \"VALUE\": 6218.63}]')\n"
    }
   ],
   "source": [
    "# -*- coding: utf-8 -*-\n",
    "import cx_Oracle\n",
    "import simplejson\n",
    "import pprint\n",
    "import os\n",
    "os.environ['NLS_LANG'] = 'SIMPLIFIED CHINESE_CHINA.UTF8'\n",
    "\n",
    "db=cx_Oracle.connect('xir_trd/xpar@127.0.0.1:1521/xvams')\n",
    "cursor=db.cursor()\n",
    "sql=\"\"\"SELECT T.ENTRY_ID,\n",
    "       T.ENTRY_DATE,\n",
    "       T.INST_ID,\n",
    "       T.ACCOUNT,\n",
    "       T.DEBIT_CREDIT_FLAG,\n",
    "       T.VALUE\n",
    "  FROM XIR_TRD.TTRD_BOOKKEEPING_ENTRY T\n",
    " WHERE T.ENTRY_DATE = '2019-07-01'\n",
    "   AND T.TSK_ID = '1'\n",
    "   AND T.INST_ID <> 0\n",
    "   AND T.ACCOUNT = '6411030201'\n",
    "\"\"\"\n",
    "cursor.execute(sql)\n",
    "result=cursor.fetchall()\n",
    "result_json=[]\n",
    "for item in result:\n",
    "    # print(item) # ('61072207', '2019-07-01', 182679, '6411030201', '1', 24830.14)\n",
    "    result_dict={\n",
    "        'ENTRY_ID':item[0],\n",
    "        'ENTRY_DATE':item[1],\n",
    "        'INST_ID':item[2],\n",
    "        'ACCOUNT':item[3],\n",
    "        'DEBIT_CREDIT_FLAG':item[4],\n",
    "        'VALUE':item[5]\n",
    "    }\n",
    "    result_json.append(result_dict)\n",
    "pprint.pprint(simplejson.dumps(result_json))\n",
    "\n",
    "\n",
    "\n"
   ]
  },
  {
   "cell_type": "code",
   "execution_count": 15,
   "metadata": {},
   "outputs": [
    {
     "name": "stdout",
     "output_type": "stream",
     "text": "[{'lable': '分录号', 'prop': 'ENTRY_ID', 'width': 180},\n {'lable': '凭证日期', 'prop': 'ENTRY_DATE', 'width': 180},\n {'lable': '指令号', 'prop': 'INST_ID', 'width': 180},\n {'lable': '科目代码', 'prop': 'ACCOUNT', 'width': 180},\n {'lable': '借贷方向', 'prop': 'DEBIT_CREDIT_FLAG', 'width': 180},\n {'lable': '金额', 'prop': 'VALUE', 'width': 180}]\n"
    }
   ],
   "source": [
    "tableColumn=[\n",
    "    {'prop': 'ENTRY_ID',          'lable': '分录号',   'width':180},\n",
    "    {'prop': 'ENTRY_DATE',        'lable': '凭证日期', 'width':180},\n",
    "    {'prop': 'INST_ID',           'lable': '指令号',   'width':180},\n",
    "    {'prop': 'ACCOUNT',           'lable': '科目代码', 'width':180},\n",
    "    {'prop': 'DEBIT_CREDIT_FLAG', 'lable': '借贷方向', 'width':180},\n",
    "    {'prop': 'VALUE',             'lable': '金额',     'width':180}\n",
    "]\n",
    "pprint.pprint(tableColumn)"
   ]
  },
  {
   "cell_type": "code",
   "execution_count": null,
   "metadata": {},
   "outputs": [],
   "source": []
  }
 ]
}