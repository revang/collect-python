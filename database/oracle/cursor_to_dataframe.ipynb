{
 "nbformat": 4,
 "nbformat_minor": 2,
 "metadata": {
  "language_info": {
   "name": "python",
   "codemirror_mode": {
    "name": "ipython",
    "version": 3
   },
   "version": "3.7.1"
  },
  "orig_nbformat": 2,
  "file_extension": ".py",
  "mimetype": "text/x-python",
  "name": "python",
  "npconvert_exporter": "python",
  "pygments_lexer": "ipython3",
  "version": 3
 },
 "cells": [
  {
   "cell_type": "code",
   "execution_count": 4,
   "metadata": {},
   "outputs": [
    {
     "data": {
      "text/html": "<div>\n<style scoped>\n    .dataframe tbody tr th:only-of-type {\n        vertical-align: middle;\n    }\n\n    .dataframe tbody tr th {\n        vertical-align: top;\n    }\n\n    .dataframe thead th {\n        text-align: right;\n    }\n</style>\n<table border=\"1\" class=\"dataframe\">\n  <thead>\n    <tr style=\"text-align: right;\">\n      <th></th>\n      <th>0</th>\n      <th>1</th>\n      <th>2</th>\n      <th>3</th>\n      <th>4</th>\n      <th>5</th>\n      <th>6</th>\n    </tr>\n  </thead>\n  <tbody>\n    <tr>\n      <th>0</th>\n      <td>2019-07-01</td>\n      <td>卖出金融资产成交(110050 佳都转债)</td>\n      <td>1</td>\n      <td>应收利息/交易性金融资产</td>\n      <td>【证券分类：】【资金账号：】【证券档案：110050】</td>\n      <td>2.969000e+01</td>\n      <td>None</td>\n    </tr>\n    <tr>\n      <th>1</th>\n      <td>2019-07-01</td>\n      <td>卖出金融资产成交(110050 佳都转债)</td>\n      <td>2</td>\n      <td>投资收益/交易性金融资产/债券/债券投资收益/可转换债券投资收益</td>\n      <td>【部门：固定收益部】【证券分类：】【资金账号：】【证券档案：110050】</td>\n      <td>NaN</td>\n      <td>28.01</td>\n    </tr>\n    <tr>\n      <th>2</th>\n      <td>2019-07-01</td>\n      <td>卖出金融资产成交(110050 佳都转债)</td>\n      <td>3</td>\n      <td>应交税费/待转销项税额</td>\n      <td>【部门：固定收益部】【证券档案：110050】</td>\n      <td>NaN</td>\n      <td>1.68</td>\n    </tr>\n    <tr>\n      <th>3</th>\n      <td>2019-07-01</td>\n      <td>卖出金融资产成交(110050 佳都转债)</td>\n      <td>4</td>\n      <td>内部往来/内部往来资金</td>\n      <td>【客户档案：】</td>\n      <td>1.164416e+06</td>\n      <td>None</td>\n    </tr>\n    <tr>\n      <th>4</th>\n      <td>2019-07-01</td>\n      <td>卖出金融资产成交(110050 佳都转债)</td>\n      <td>5</td>\n      <td>交易性金融资产/成本/可转换债券</td>\n      <td>【证券分类：】【资金账号：】【证券档案：110050】</td>\n      <td>NaN</td>\n      <td>1132489.48</td>\n    </tr>\n    <tr>\n      <th>...</th>\n      <td>...</td>\n      <td>...</td>\n      <td>...</td>\n      <td>...</td>\n      <td>...</td>\n      <td>...</td>\n      <td>...</td>\n    </tr>\n    <tr>\n      <th>149</th>\n      <td>2019-07-01</td>\n      <td>质押式正回购到期(06.28(3)_ORD19062800224373)</td>\n      <td>1</td>\n      <td>利息支出/卖出回购金融资产支出/场外/银行间</td>\n      <td>【部门：固定收益部】【证券分类：】【资金账号：】【证券档案：200】</td>\n      <td>3.492822e+04</td>\n      <td>None</td>\n    </tr>\n    <tr>\n      <th>150</th>\n      <td>2019-07-01</td>\n      <td>质押式正回购到期(06.28(3)_ORD19062800224373)</td>\n      <td>2</td>\n      <td>应付利息/卖出回购金融资产款/场外</td>\n      <td>【客户档案：】</td>\n      <td>NaN</td>\n      <td>34928.22</td>\n    </tr>\n    <tr>\n      <th>151</th>\n      <td>2019-07-01</td>\n      <td>质押式正回购到期(06.28(3)_ORD19062800224373)</td>\n      <td>3</td>\n      <td>卖出回购金融资产款/场外交易/同业卖出回购金融资产款/质押式回购</td>\n      <td>【证券分类：】【资金账号：】【证券档案：200】</td>\n      <td>1.328000e+08</td>\n      <td>None</td>\n    </tr>\n    <tr>\n      <th>152</th>\n      <td>2019-07-01</td>\n      <td>质押式正回购到期(06.28(3)_ORD19062800224373)</td>\n      <td>4</td>\n      <td>应付利息/卖出回购金融资产款/场外</td>\n      <td>【客户档案：】</td>\n      <td>3.492822e+04</td>\n      <td>None</td>\n    </tr>\n    <tr>\n      <th>153</th>\n      <td>2019-07-01</td>\n      <td>质押式正回购到期(06.28(3)_ORD19062800224373)</td>\n      <td>5</td>\n      <td>其他货币资金/DVP专户</td>\n      <td>None</td>\n      <td>NaN</td>\n      <td>132834928.22</td>\n    </tr>\n  </tbody>\n</table>\n<p>154 rows × 7 columns</p>\n</div>",
      "text/plain": "              0                                     1  2  \\\n0    2019-07-01                 卖出金融资产成交(110050 佳都转债)  1   \n1    2019-07-01                 卖出金融资产成交(110050 佳都转债)  2   \n2    2019-07-01                 卖出金融资产成交(110050 佳都转债)  3   \n3    2019-07-01                 卖出金融资产成交(110050 佳都转债)  4   \n4    2019-07-01                 卖出金融资产成交(110050 佳都转债)  5   \n..          ...                                   ... ..   \n149  2019-07-01  质押式正回购到期(06.28(3)_ORD19062800224373)  1   \n150  2019-07-01  质押式正回购到期(06.28(3)_ORD19062800224373)  2   \n151  2019-07-01  质押式正回购到期(06.28(3)_ORD19062800224373)  3   \n152  2019-07-01  质押式正回购到期(06.28(3)_ORD19062800224373)  4   \n153  2019-07-01  质押式正回购到期(06.28(3)_ORD19062800224373)  5   \n\n                                    3                                      4  \\\n0                        应收利息/交易性金融资产            【证券分类：】【资金账号：】【证券档案：110050】   \n1    投资收益/交易性金融资产/债券/债券投资收益/可转换债券投资收益  【部门：固定收益部】【证券分类：】【资金账号：】【证券档案：110050】   \n2                         应交税费/待转销项税额                【部门：固定收益部】【证券档案：110050】   \n3                         内部往来/内部往来资金                                【客户档案：】   \n4                    交易性金融资产/成本/可转换债券            【证券分类：】【资金账号：】【证券档案：110050】   \n..                                ...                                    ...   \n149            利息支出/卖出回购金融资产支出/场外/银行间     【部门：固定收益部】【证券分类：】【资金账号：】【证券档案：200】   \n150                 应付利息/卖出回购金融资产款/场外                                【客户档案：】   \n151  卖出回购金融资产款/场外交易/同业卖出回购金融资产款/质押式回购               【证券分类：】【资金账号：】【证券档案：200】   \n152                 应付利息/卖出回购金融资产款/场外                                【客户档案：】   \n153                      其他货币资金/DVP专户                                   None   \n\n                5             6  \n0    2.969000e+01          None  \n1             NaN         28.01  \n2             NaN          1.68  \n3    1.164416e+06          None  \n4             NaN    1132489.48  \n..            ...           ...  \n149  3.492822e+04          None  \n150           NaN      34928.22  \n151  1.328000e+08          None  \n152  3.492822e+04          None  \n153           NaN  132834928.22  \n\n[154 rows x 7 columns]"
     },
     "execution_count": 4,
     "metadata": {},
     "output_type": "execute_result"
    }
   ],
   "source": [
    "# -*- coding: utf-8 -*-\n",
    "import cx_Oracle\n",
    "import pandas as pd\n",
    "import os\n",
    "os.environ['NLS_LANG'] = 'SIMPLIFIED CHINESE_CHINA.UTF8'\n",
    "\n",
    "db=cx_Oracle.connect('xir_trd/xpar@127.0.0.1:1521/xvams')\n",
    "cursor=db.cursor()\n",
    "ref_cursor=cursor.var(cx_Oracle.CURSOR)\n",
    "result=cursor.callproc('PKG_ACCI_REPORT.P_RPT_ACCI_7',('2019-07-01',ref_cursor))[-1]\n",
    "pd.DataFrame(result)"
   ]
  },
  {
   "cell_type": "code",
   "execution_count": null,
   "metadata": {},
   "outputs": [],
   "source": []
  }
 ]
}